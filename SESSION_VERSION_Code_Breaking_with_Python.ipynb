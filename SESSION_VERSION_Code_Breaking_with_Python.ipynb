{
  "nbformat": 4,
  "nbformat_minor": 0,
  "metadata": {
    "colab": {
      "name": "SESSION VERSION Code Breaking with Python.ipynb",
      "provenance": [],
      "collapsed_sections": [],
      "include_colab_link": true
    },
    "kernelspec": {
      "name": "python3",
      "display_name": "Python 3"
    },
    "language_info": {
      "name": "python"
    }
  },
  "cells": [
    {
      "cell_type": "markdown",
      "metadata": {
        "id": "view-in-github",
        "colab_type": "text"
      },
      "source": [
        "<a href=\"https://colab.research.google.com/github/KVengeance/CodeBreakingWithPython-/blob/main/SESSION_VERSION_Code_Breaking_with_Python.ipynb\" target=\"_parent\"><img src=\"https://colab.research.google.com/assets/colab-badge.svg\" alt=\"Open In Colab\"/></a>"
      ]
    },
    {
      "cell_type": "markdown",
      "source": [
        "# Breaking Codes with Python\n",
        "\n",
        "**Digital Skills Week - University of Hertfordshire**\n",
        "\n",
        "Karolyn Webb and Kevin O'Connor\n"
      ],
      "metadata": {
        "id": "efJjxBLMjSh_"
      }
    },
    {
      "cell_type": "markdown",
      "source": [
        "**Welcome to this session on basic Python and utilising Python to break codes!**\n",
        "\n",
        "The aims of this session are:\n",
        "\n",
        "\n",
        "\n",
        "*   Describe what Python is \n",
        "*   Create a short \"Hello World\" program in Google Colab\n",
        "* Use Python Libraries to crack a code\n",
        "* Find the solution to the Puzzle!\n",
        "\n",
        "\n",
        "\n"
      ],
      "metadata": {
        "id": "48N8iBwgvsyf"
      }
    },
    {
      "cell_type": "markdown",
      "source": [
        "**What is Python?**\n",
        "\n",
        "Python was first developed in the 1980s by Guido van Rossum. Python is a popular general-purpose programming language that can be used for a wide variety of applications. It includes high-level data structures, dynamic typing, dynamic binding, and many more features that make it as useful for complex application development as it is for scripting or \"glue code\" that connects components together. It can also be extended to make system calls to almost all operating systems and to run code written in C or C++. Due to its ubiquity and ability to run on nearly every system architecture, Python is a universal language found in a variety of different applications.\n",
        "\n",
        "It is one of the simplest but powerful programming languages in the world. Today we are going to take your first steps in to creating your first programs!\n",
        "\n",
        "\n"
      ],
      "metadata": {
        "id": "x8VtieY5wdW6"
      }
    },
    {
      "cell_type": "markdown",
      "source": [
        "**What is Google Colaboratory?**\n",
        "\n",
        "What is Colab?\n",
        "Colab, or ‘Colaboratory’, allows you to write and execute Python in your browser, with:\n",
        "\n",
        "\n",
        "\n",
        "*   Zero configuration required\n",
        "*   Free access to GPUs\n",
        "* Easy sharing\n",
        "\n",
        "\n",
        "\n",
        "\n",
        "\n"
      ],
      "metadata": {
        "id": "zX5E-D7wxMgd"
      }
    },
    {
      "cell_type": "markdown",
      "source": [
        "**What is Cryptography?**\n",
        "\n",
        "Everybody is intrested in Cryptography at the moment, mainly due to the surge in interest around Cryptocurrencies.\n",
        "\n",
        "Cryptography is the study of secure communications techniques that allow only the sender and intended recipient of a message to view its contents. The term is derived from the Greek word kryptos, which means hidden. It is closely associated to encryption, which is the act of scrambling ordinary text into what's known as ciphertext and then back again upon arrival. In addition, cryptography also covers the obfuscation of information in images using techniques such as microdots or merging. Ancient Egyptians were known to use these methods in complex hieroglyphics, and Roman Emperor Julius Caesar is credited with using one of the first modern ciphers.\n"
      ],
      "metadata": {
        "id": "siGcK_Vuxw9P"
      }
    },
    {
      "cell_type": "markdown",
      "source": [
        "# Hello World!\n"
      ],
      "metadata": {
        "id": "7R_6xgAlj00H"
      }
    },
    {
      "cell_type": "markdown",
      "source": [
        "**Lets get Started!**\n",
        "\n",
        "As is obligatory with all programming courses, our first step is to create a \"Hello World\" program to find our feet with the process. Hello World programs are used to illustrate how the process of coding works, as well as to ensure that a language or system is operating correctly. They are usually the first programs that new coders learn, because even those with little or no experience can execute Hello World both easily and correctly.\n",
        "\n"
      ],
      "metadata": {
        "id": "kiJzef1Lyp1a"
      }
    },
    {
      "cell_type": "code",
      "source": [
        "#In programming, we often use comments within programs to explain what we are doing. In Python, if you start a line with a hash symbol \"#\" anything after the hash will be ignored by the program.\n",
        "#I will be using the # to give you instructions on how to complete these tasks.\n",
        "\n",
        "#\"Hello World\" in Python is very simple.\n",
        "#the \"print\" command will print whatever is in brackets after it.\n",
        "#Brackets are usied to show the command is a function ***EXPLAIN WHAT A FUNCTION IS***\n",
        "\n",
        "#Below this line, write the following: print(\"my first program\") and press the play button to the left hand side to run the script.\n",
        "\n",
        "print(\"my first program\")"
      ],
      "metadata": {
        "id": "P2sM8Ou9zGCS"
      },
      "execution_count": null,
      "outputs": []
    },
    {
      "cell_type": "code",
      "source": [
        "#Amazing! You've successfully run your first code in Python! \n",
        "\n",
        "#You might be wondering why the statement to print is in speech marks. \n",
        "#There are many different types of data in the world, for example numbers (known as integers), Text (known as string), true/false (known as booleans)\n",
        "#Sometimes we have to tell the computer what kind of data we will be giving it - in a lot of programming languages, you have to be really explicit and declare your variables. This generally is not the case\n",
        "#with python and it will figure it out for you!\n",
        "#Lets have a play with some data types - you've already learnt how to use strings i.e. you place them within (\"\")\n",
        "#How about a number? \n",
        "#Type print(1) and run the program.\n",
        "\n",
        "print(1)"
      ],
      "metadata": {
        "id": "ohcVmXDx0hvr"
      },
      "execution_count": null,
      "outputs": []
    },
    {
      "cell_type": "code",
      "source": [
        "#At this rate, you'll be breaking codes in no time at all!\n",
        "\n",
        "#Lets have a conversation about indentation! A lot of programming languages use \"curly braces\" to indicate, essentially, that all this bit of the code belongs together - a bit like grouping things together.\n",
        "\n",
        "#In this section, I am also going to introduce some maths functions. Most programs are a series of maths functions and \"if\" this happens \"then\" do this. It does get very complex when we start combining all of these functions\n",
        "#together but just like real life, you don't have to re-invent the wheel. Pythong has many reference libraries that you can use with simple commands to acheive complex outcomes!\n",
        "\n",
        "#Lets start by declaring a variable called \"x\" and giving that variable a value.\n",
        "#Type: x=1 \n",
        "#then, using your knowledge above, ask python to print the value of X\n",
        "#HINT in this situation X is used a mathmatical number, NOT a string so you do not need to us \"\" around the X\n",
        "\n",
        "x=1\n",
        "print(x)\n"
      ],
      "metadata": {
        "id": "g__xsXCN16Zj"
      },
      "execution_count": null,
      "outputs": []
    },
    {
      "cell_type": "code",
      "source": [
        "#Great! But lets say we only want to print X if X is equal to 1 - this is where we need to add Indentations to indicate the series of commands are related\n",
        "\n",
        "#Try running this:\n",
        "\n",
        "x = 1\n",
        "if x == 1:\n",
        "    # indented four spaces\n",
        "    print(\"x is 1.\")\n",
        "\n",
        "#Now, change X to 2 and run the code again.\n",
        "#You'll see that nothing is printed but no error messages are sent either, which is what we expected!\n",
        "#You'll also note that on the second line, we use == to indicate \"is exactly equal to\""
      ],
      "metadata": {
        "id": "KZr9yhc4381w"
      },
      "execution_count": null,
      "outputs": []
    },
    {
      "cell_type": "code",
      "source": [
        "%reset"
      ],
      "metadata": {
        "id": "MAzRCic4_r68"
      },
      "execution_count": null,
      "outputs": []
    },
    {
      "cell_type": "code",
      "source": [
        "#Let's add another bit to our code so that when X is not 1, Python lets us know about this.\n",
        "\n",
        "#Try running this:\n",
        "\n",
        "x = 2\n",
        "if x == 1:\n",
        "    # indented four spaces\n",
        "    print(\"x is 1.\")\n",
        "else:\n",
        "    print(\"x is not 1\")\n",
        "\n",
        "#Try changing the value of X to 1 and re-running the code"
      ],
      "metadata": {
        "id": "Wj7nIbPn4pXA"
      },
      "execution_count": null,
      "outputs": []
    },
    {
      "cell_type": "code",
      "source": [
        "%reset"
      ],
      "metadata": {
        "id": "Q3FZyyYv_z6j"
      },
      "execution_count": null,
      "outputs": []
    },
    {
      "cell_type": "code",
      "source": [
        "#Beautiful! A lot of cryptography relies on manipulating data, so lets practice with some maths functions. Try the code below:\n",
        "\n",
        "x=27\n",
        "y=5\n",
        "print(x+y)\n",
        "\n",
        "#Woohoo! We've got a programatic calculator! You already have the skills to produce a program that can complete complex maths problems!\n",
        "#Try changing the symbol in print(x+y) from a + to other maths functions. The simplest in python are: + (addition), - (subtraction), * (multiply), / (divide)"
      ],
      "metadata": {
        "id": "4Y8XoK7H6gZ9"
      },
      "execution_count": null,
      "outputs": []
    },
    {
      "cell_type": "code",
      "source": [
        "%reset"
      ],
      "metadata": {
        "id": "AWGWVcCe_1ph"
      },
      "execution_count": null,
      "outputs": []
    },
    {
      "cell_type": "code",
      "source": [
        "#There are some more complex maths functions such as: ** (to the power of), % (modulus i.e \"return the remainder\") for example and also comparison operators, such as: < (less than), > (greater than), == (equal to)\n",
        "#!= (not equal to), Less than or Equal to (<=), Greater than or equal to (>=)\n",
        "\n",
        "#We've now almost learnt enough code to create a program to tell us if a number is odd or even\n",
        "#The key to odd or even programs is the % operator. Any number that can be divided by 2 WITHOUT a remainder is even. Lets try this out first before we put it in to a program:\n",
        "\n",
        "x=4\n",
        "y=7\n",
        "\n",
        "#We know that 4 is even, so if we use the modulus operator % by 2, the answer should be 0 because 2 divides in to 4 with no remainder\n",
        "#We also know 7 is odd, so if we use the modulus operator % by 2, the answer should be 1 because 2 divides in to 7 with 1 remainder\n",
        "#we are also going to instroduce an naming variables based on what they are. \n",
        "#Try running this code and see what happens. You can change the values of x and y and re-run this code.\n",
        "\n",
        "answerOne = x%2\n",
        "print (answerOne)\n",
        "answerTwo = y%2\n",
        "print (answerTwo)\n",
        "\n",
        "\n"
      ],
      "metadata": {
        "id": "dCWESPd48P-z"
      },
      "execution_count": null,
      "outputs": []
    },
    {
      "cell_type": "code",
      "source": [
        "%reset"
      ],
      "metadata": {
        "id": "pD_H1H84_5wH"
      },
      "execution_count": null,
      "outputs": []
    },
    {
      "cell_type": "code",
      "source": [
        "#Looking good! Although, if we were making an app, we would probably want the user to input their number and then the program to assess this to be odd or even and then return the answer to the user in plain text.\n",
        "\n",
        "#Thinking about the steps in creating programs, its often useful to plan out your steps in plain language, like so:\n",
        "\n",
        "#User inputs number\n",
        "#Program uses modulus by two to determine if there is a remainder\n",
        "#If modulus equals zero, then print \"this number is even\"\n",
        "#If modulus equals NOT zero, then print \"This number is Even\"\n",
        "\n",
        "#See how stating what we want to acheive, makes the process a lot clearer. You already know how to find the modulus, make a statement based on the output and return this to the user.\n",
        "\n",
        "#The only thing we are not certain of, is how to take a user input, but don't worry - lets tackle that now, then you can have a go at creating this useful little program.\n",
        "\n",
        "#Its really easy to do this in python, the command is \"input\" Try running this code:\n",
        "\n",
        "username = input(\"Enter username:\")\n",
        "print(\"Username is: \" + username)\n",
        "\n"
      ],
      "metadata": {
        "id": "RrFYeL9aAEOX"
      },
      "execution_count": null,
      "outputs": []
    },
    {
      "cell_type": "code",
      "source": [
        "%reset"
      ],
      "metadata": {
        "id": "P2vzTTlF_7x7"
      },
      "execution_count": null,
      "outputs": []
    },
    {
      "cell_type": "code",
      "source": [
        "#You may notice that this returns a string - this is no good for maths as we want our data to be an integer (a number). In python, we have to be explicit about this so we add an \"int\" function before the input function.\n",
        "\n",
        "#Try this: \n",
        "\n",
        "x = int(input(\"Enter a number: \"))\n",
        "y = int(input(\"Enter a number: \"))\n",
        "print (x+y)"
      ],
      "metadata": {
        "id": "5Hb_ga33CjkK"
      },
      "execution_count": null,
      "outputs": []
    },
    {
      "cell_type": "code",
      "source": [
        "%reset"
      ],
      "metadata": {
        "id": "6fSM0B_2_9Tv"
      },
      "execution_count": null,
      "outputs": []
    },
    {
      "cell_type": "markdown",
      "source": [
        "# The Odd-Even Machine \n"
      ],
      "metadata": {
        "id": "61Pt0Y_OkdEC"
      }
    },
    {
      "cell_type": "markdown",
      "source": [
        "**You've made it this far - WELL DONE!**\n",
        "\n",
        "This is your first test - you have all the code you need to create an odd or even machine!\n",
        "\n",
        "Remember to break it down and code each bit seperately. You need to:\n",
        "\n",
        "* User inputs number\n",
        "* Program uses modulus by two to determine if there is a remainder\n",
        "* If modulus equals zero, then print \"this number is even\"\n",
        "* If modulus equals NOT zero, then print \"This number is Even\"\n",
        "\n",
        "Try your best to create this program in the space below:"
      ],
      "metadata": {
        "id": "nMJte2WVCzkP"
      }
    },
    {
      "cell_type": "code",
      "source": [
        "#Enter your program here\n",
        "\n"
      ],
      "metadata": {
        "id": "B623FAJHDmPR"
      },
      "execution_count": null,
      "outputs": []
    },
    {
      "cell_type": "code",
      "source": [
        "%reset"
      ],
      "metadata": {
        "id": "2XOk-tEoAAB5"
      },
      "execution_count": null,
      "outputs": []
    },
    {
      "cell_type": "markdown",
      "source": [
        "# Encoding and Decoding"
      ],
      "metadata": {
        "id": "ofaDJzpKm5ke"
      }
    },
    {
      "cell_type": "markdown",
      "source": [
        "**Amazing Work**\n",
        "\n",
        "In order to break codes, we will need to introduce more complex functions and actions, but now you have a basic understanding, we can cover these as we break some codes!\n",
        "\n",
        "The art of concealing information to induce secrecy in the communication and transmission of sensitive data is termed cryptography. Diving deep into the etymology of the word ‘cryptography’ shows that this word finds its origin in ancient Greek. Derived from words kryptos meaning “hidden” or “secret” and graphy meaning “writing”, cryptography literally means writing something secretly.\n",
        "\n",
        "There are lots of real life examples of this and why it is needed. Many people think of the military and examples such as the enigma machine but everyday your normal routine actions are facilitated by modern cryptography - you wouldn't want your online banking or card details to be boradcast across the internet in plain text!\n",
        "\n",
        "Common terminologies that are encountered in the word of cryptography are:\n",
        "\n",
        "* A simple text, easily perceived by a human, is called plaintext or cleartext.\n",
        "* The process of using mathematical algorithms to disguise sensitive information in plaintext is called encryption.\n",
        "* These algorithms, also known as ciphers, are a series of well-defined steps to make the secret message actually unbreakable for any adversary. After encryption, you get a ciphertext that does not make sense at all. This is the step where you have your message hidden.\n",
        "* To make the algorithm work, you need a key unique to that algorithm and message.\n",
        "* Now, in order to decrypt the encrypted text, the key and the name of the algorithm has to be known. This conversion of ciphertext back to plaintext is called decryption.\n",
        "\n",
        "In order to get the same plaintext from the decryption algorithm, we must always provide the same key. If the key is tampered, the output would be unexpected, undesirable, or usually unwanted.\n",
        "\n",
        "\n",
        "**If the above sounds complex, don't worry - we will take it step by step and break everything down. We will start with very simple cryptography and move on from there.**\n",
        "\n",
        "\n",
        "\n"
      ],
      "metadata": {
        "id": "xKazBMXwFhl0"
      }
    },
    {
      "cell_type": "code",
      "source": [
        "#Let's create our first encryption-decryption program!\n",
        "\n",
        "#In this excercise we will:\n",
        "# *Take a users input\n",
        "# *Encode this by reversing the letters\n",
        "#return the encoded message\n",
        "\n",
        "#Obviously, simply reversing the text is very easy to break but lets not worry at the moment how secure our program is, lets just get the basic structure together as we can always improve the encoding later\n",
        "\n",
        "#since we already know how to take a users input, do something with it and then return something based upon that input - we just need to figure out how to reverse our text to encode it.\n",
        "\n",
        "#There is no built-in function to reverse a String in Python.\n",
        "\n",
        "#The fastest (and easiest?) way is to use a slice that steps backwards, -1.\n",
        "\n",
        "#Try running this code\n",
        "\n",
        "txt = \"Hello World\"[::-1]\n",
        "print(txt)\n",
        "\n",
        "#you'll notice there are a couple of things in this code we haven't covered yet, mainly the [::-1] part\n",
        "#The sqaure brackets denote an ARRAY. Arrays are super useful for holding lists or tables of data. up until this point, we've just used variables which relate to a single piece of data i.e x=1\n",
        "#But often this is too simplistic for many data types so we need to hold each seperate piece of data in an array so we can manipulate it.\n",
        "\n",
        "#The slice notation in python has the following syntax: list[<start>:<stop>:<step>]\n",
        "# means that for a given string/list/tuple, you can slice the said object using the format <object_name>[<start_index>, <stop_index>, <step>]\n",
        "\n",
        "#Try adjusting the -1 and re-running the code to see the impact it has. You can even remove the -1 all together! \n"
      ],
      "metadata": {
        "id": "HYT77rP7HT_m"
      },
      "execution_count": null,
      "outputs": []
    },
    {
      "cell_type": "code",
      "source": [
        "%reset"
      ],
      "metadata": {
        "id": "PL007xwMADfF"
      },
      "execution_count": null,
      "outputs": []
    },
    {
      "cell_type": "markdown",
      "source": [
        "**OK! We have our first algorithm to encode a message**\n",
        "\n",
        "Admittedly, its really easy to break but with everything in programming, we always start simply and build up to our final task.\n",
        "\n",
        "So now we have this element of our code, we can start to build our decoding and encoding program. In this example, we don't need to tell the program if we are encoding or decoding because the algorithm will simply reverse whatever we give it.\n",
        "\n",
        "So lets create the program! Remember, these are the steps:\n",
        "\n",
        "* Let a user input a string to be coded\n",
        "* Encode the input\n",
        "* Retun the encoded string\n",
        "\n",
        "We already have all the code to do this, so lets buid this piece by piece together."
      ],
      "metadata": {
        "id": "MeH6aC7ZLSx-"
      }
    },
    {
      "cell_type": "code",
      "source": [
        "#Right, our first task is to accept a user input\n",
        "#In this case, we will be using string data (or letters) so we can simply do the following:\n",
        "\n",
        "secretMsg = input(\"Enter string to be encoded or decoded:\")\n",
        "\n",
        "#Now we need to process this message with our backwards algorythm\n",
        "\n",
        "encodedMsg = secretMsg[::-1]\n",
        "\n",
        "#Now we just need to return the encoded message back to the user\n",
        "\n",
        "print(encodedMsg)\n"
      ],
      "metadata": {
        "id": "ZJwJ8LQfNYhg"
      },
      "execution_count": null,
      "outputs": []
    },
    {
      "cell_type": "code",
      "source": [
        "%reset"
      ],
      "metadata": {
        "id": "1Ej6ISEvAFsf"
      },
      "execution_count": null,
      "outputs": []
    },
    {
      "cell_type": "markdown",
      "source": [
        "**THIS IS AN EMERGENCEY BROADCAST**\n",
        "\n",
        "We are sorry to interrupt this training session withe following message:\n",
        "\n",
        "43-D53BHoIx=v?hctaw/moc.ebutuoy.www//:sptth :metsys habogad eht ot levart tsum uoY\n",
        "\n",
        "**Decode this message**\n",
        "\n",
        "\n"
      ],
      "metadata": {
        "id": "5ACRR0Ag54zm"
      }
    },
    {
      "cell_type": "markdown",
      "source": [
        "**OK, so that was pretty easy**\n",
        "\n",
        "We probaby want to make our encryption a little more complex so its a bit harder to crack!\n",
        "\n",
        "We refer to the above cipher as a Reverse Cipher. The next encoding method we will use is the Ceaser Cipher. Whilst a reverse Cipher on its own is easy to crack, adding a reverse cipher to another cipher adds a layer of additional security.\n",
        "\n",
        "To begin with we will create a program to encode with a Ceaser Cipher and then add a reverse cipher to make it even harder for someone to crack.\n",
        "\n",
        "**The Ceaser Cipher**\n",
        "\n",
        "The algorithm of Caesar cipher holds the following features −\n",
        "\n",
        "Caesar Cipher Technique is the simple and easy method of encryption technique.\n",
        "\n",
        "It is simple type of substitution cipher.\n",
        "\n",
        "Each letter of plain text is replaced by a letter with some fixed number of positions down with alphabet.\n",
        "\n",
        "![algorithm_caesar_cipher.jpg](data:image/jpeg;base64,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)\n",
        "\n",
        "\n"
      ],
      "metadata": {
        "id": "-8X5RBQ_QFS6"
      }
    },
    {
      "cell_type": "code",
      "source": [
        "#Ok, so this is not quite as easy as the reverse cipher!\n",
        "\n",
        "#First thing that is important to note is computers don't recognise letters - each letter on your keyboard is stored in computer memory in something called Unicode (originally this was something called ASCII but was too limited in its\n",
        "#scope to encode all the characters of the world as it was only 8 bit). \n",
        "#This is a 16-bit number and encodes almost all the English language’s characters, digits, and punctuations.\n",
        "\n",
        "#For instance, the uppercase ‘A’ is represented by the number 65, ‘B’ by 66, and so on. Similarly, lowercase characters’ representation begins with the number 97.\n",
        "\n",
        "#For our purposes, its going to be a lot easier and make more sense if we use the built in functions within Python to convert our messages to Unicode before we manipulate them\n",
        "\n",
        "#You can use the ord() method to convert a character to its numeric representation in Unicode. It accepts a single character and returns the number representing its Unicode. eg:\n",
        "\n",
        "letter_unicode=ord(\"d\")\n",
        "print (\"Unicode =\", letter_unicode)\n",
        "\n",
        "#Try changing the \"c\" to another letter like \"d\"\n"
      ],
      "metadata": {
        "id": "_2oqfgD5TOt2"
      },
      "execution_count": null,
      "outputs": []
    },
    {
      "cell_type": "code",
      "source": [
        "%reset"
      ],
      "metadata": {
        "id": "soIEUEHZAHnc"
      },
      "execution_count": null,
      "outputs": []
    },
    {
      "cell_type": "code",
      "source": [
        "#Just like how we could convert a character into its numeric Unicode using ord() method, we do the inverse i.e., find the character represented by a number using chr() method.\n",
        "\n",
        "#Using the below code, decode the Unicode \"64\" in to normal letters:\n",
        "\n",
        "letter_normal=chr(45)\n",
        "print (\"Decoded Unicode =\", letter_normal)"
      ],
      "metadata": {
        "id": "lZ9uJ1WUWoHL"
      },
      "execution_count": null,
      "outputs": []
    },
    {
      "cell_type": "code",
      "source": [
        "%reset"
      ],
      "metadata": {
        "id": "1gzAVIjMAIuD"
      },
      "execution_count": null,
      "outputs": []
    },
    {
      "cell_type": "markdown",
      "source": [
        "Now that we understand the two fundamental methods we’ll use, let’s implement the encryption technique for capital letters in Python. \n",
        "\n",
        "We shall encrypt only the uppercase characters in the text and will leave the remaining ones unchanged - remember all keyboard text has a unicode equivalent but we don't want to encrypt the space at this point.\n",
        "\n",
        "Let’s first look at the step-by-step process of encrypting the capital letters:\n",
        "\n",
        "1. Define the shift value i.e., the number of positions we want to shift from each character.\n",
        "2. Iterate over each character of the plain text:\n",
        "3. If the character is upper-case:\n",
        "* Calculate the position/index of the character in the 0-25 range.\n",
        "* Perform the positive shift using the modulo operation.\n",
        "* Find the character at the new position.\n",
        "* Replace the current capital letter by this new character.\n",
        "\n",
        "4. Else, If the character is not upper-case, keep it with no change.\n",
        "\n",
        "Couple of things to note in this plan:\n",
        "\n",
        "Iterate means go through all the letters in the message and apply until you run out of letter\n",
        "\n",
        "There are 26 letters in the Alphabet however arrays start at 0, this is why the charactyer range is from 0-25"
      ],
      "metadata": {
        "id": "Vr7kuTpwaWyB"
      }
    },
    {
      "cell_type": "code",
      "source": [
        "shift = 5 # defining the shift count - Try changing this to see the impact on the encoded message\n",
        "\n",
        "text = \"HELLO WORLD\"\n",
        "\n",
        "encryption = \"\"\n",
        "\n",
        "#the next line means, for each individual letter in the variable \"text\", do the following. We use \"c\" as this variable but it could be any letter or word etc. It's sort of tradition to use X, Y, Z as Integer variable names\n",
        "#\n",
        "for c in text:\n",
        "\n",
        "    # check if character is an uppercase letter\n",
        "    if c.isupper():\n",
        "\n",
        "        # find the position in 0-25\n",
        "        c_unicode = ord(c)\n",
        "\n",
        "        c_index = ord(c) - ord(\"A\")\n",
        "\n",
        "        # perform the shift\n",
        "        new_index = (c_index + shift) % 26\n",
        "\n",
        "        # convert to new character\n",
        "        new_unicode = new_index + ord(\"A\")\n",
        "\n",
        "        new_character = chr(new_unicode)\n",
        "\n",
        "        # append to encrypted string\n",
        "        encryption = encryption + new_character\n",
        "\n",
        "    else:\n",
        "\n",
        "        # since character is not uppercase, leave it as it is\n",
        "        encryption += c\n",
        "\n",
        "       \n",
        "print(\"Plain text:\",text)\n",
        "\n",
        "print(\"Encrypted text:\",encryption)\n"
      ],
      "metadata": {
        "id": "CgPoCzOcbUln"
      },
      "execution_count": null,
      "outputs": []
    },
    {
      "cell_type": "code",
      "source": [
        "%reset"
      ],
      "metadata": {
        "id": "PXefi7r7AKnK"
      },
      "execution_count": null,
      "outputs": []
    },
    {
      "cell_type": "markdown",
      "source": [
        "**CHALLENGE**\n",
        "\n",
        "Using the above code and what you have learnt, can you adjust this code to accept user input?\n",
        "\n",
        "**BONUS** Can you add the backwards cipher as well to this encryption program?"
      ],
      "metadata": {
        "id": "oDQztnXEb5fY"
      }
    },
    {
      "cell_type": "code",
      "source": [
        "shift = 5 # defining the shift count - Try changing this to see the impact on the encoded message. If you have an encoded message and know the shift number, you can decode the message by turning this in to a negative number i.e -5\n",
        "\n",
        "text = input(\"Enter string in capitals to be encoded or decoded:\")\n",
        "\n",
        "encryption = \"\"\n",
        "\n",
        "for c in text:\n",
        "\n",
        "    # check if character is an uppercase letter\n",
        "    if c.isupper():\n",
        "\n",
        "        # find the position in 0-25\n",
        "        c_unicode = ord(c)\n",
        "\n",
        "        c_index = ord(c) - ord(\"A\")\n",
        "\n",
        "        # perform the shift\n",
        "        new_index = (c_index + shift) % 26\n",
        "\n",
        "        # convert to new character\n",
        "        new_unicode = new_index + ord(\"A\")\n",
        "\n",
        "        new_character = chr(new_unicode)\n",
        "\n",
        "        # append to encrypted string\n",
        "        encryption = encryption + new_character\n",
        "\n",
        "    else:\n",
        "\n",
        "        # since character is not uppercase, leave it as it is\n",
        "        encryption += c\n",
        "        \n",
        "encryptionBackwards = #ADD THE CORRECT CODE HERE TO REVERSE THE ANSWER\n",
        "\n",
        "print(\"Plain text:\",text)\n",
        "\n",
        "print(\"Encrypted text:\",encryption)\n",
        "\n",
        "print(\"Reversed Encrypted Text:\", encryptionBackwards)"
      ],
      "metadata": {
        "id": "nyCBtp9ycMBY"
      },
      "execution_count": null,
      "outputs": []
    },
    {
      "cell_type": "code",
      "source": [
        "%reset"
      ],
      "metadata": {
        "id": "uh2tiOYdAMJQ"
      },
      "execution_count": null,
      "outputs": []
    },
    {
      "cell_type": "markdown",
      "source": [
        "As you might have guessed, the key to cracking a ceaser cipher is knowing the shift number. This is fairly limited as there are only 26 possible solutions.\n",
        "\n",
        "This means we can crack a ceaser cipher using a technique called \"Brute Force\"\n",
        "\n",
        "Brute Forcing is a method where a hacker will iterate through all possible combinations of a key in order to break a password or code. In real life, this rarely works as password fields normally limit the number attempts of guessing and cracking dictionaries are huge. Although, if you have a common password, it *might* just work (HINT: change your passwords regularly!!)\n",
        "\n",
        "Lets write a program that uses brute force to hack a password that was encrypted using a Ceaser Cipher.\n",
        "\n",
        "Try cracking this: UDYMTSNXFBJXTRJ"
      ],
      "metadata": {
        "id": "mrP9je-kfqNA"
      }
    },
    {
      "cell_type": "code",
      "source": [
        "#ok, we are going to stick with our upper case only letters.\n",
        "#First we need to write a function that accepts a ciphertext and a key, and decrypts all its uppercase letters. This is basically the same as before. This is just a function the computer will use on the text we give it.\n",
        "\n",
        "def cipher_decrypt_upper(ciphertext, key):\n",
        "\n",
        "    decrypted = \"\"\n",
        "\n",
        "    for c in ciphertext:\n",
        "\n",
        "        if c.isupper(): \n",
        "\n",
        "            c_index = ord(c) - ord('a') \n",
        "\n",
        "            c_og_pos = (c_index - key) % 26 + ord('a')\n",
        "\n",
        "            c_og = chr(c_og_pos)\n",
        "\n",
        "            decrypted += c_og\n",
        "\n",
        "        else:\n",
        "\n",
        "            decrypted += c\n",
        "\n",
        "    return decrypted\n",
        "\n",
        "#The thing we want to know is, what is the key i.e. the number of shifts the text has been put through. We wre going to write a bit of code that uses the above function to translate text using all 26 availble positions.\n",
        "\n",
        "cryptic_text = input(\"Enter text in capitals to be cracked:\") #This is our user input\n",
        "\n",
        "for i in range(0,26):\n",
        "\n",
        "    plain_text = cipher_decrypt_upper(cryptic_text, i)\n",
        "\n",
        "    print(\"For key {}, decrypted text: {}\".format(i, plain_text))\n",
        "\n",
        "#The output will be a list of all the possible decryptions - one of them will look more like a word than the others"
      ],
      "metadata": {
        "id": "fTEWaefBekn3"
      },
      "execution_count": null,
      "outputs": []
    },
    {
      "cell_type": "code",
      "source": [
        "%reset"
      ],
      "metadata": {
        "id": "3-JQd_-oAN8q"
      },
      "execution_count": null,
      "outputs": []
    },
    {
      "cell_type": "markdown",
      "source": [
        "**Emergency Broadcast**\n",
        "\n",
        "An operative deep inside a competitor's complex is attempting to hack this OneNote page in order to discover the secrets within. On the desk of the rival is a post it note with the following written down: UBKHIDEWQHT\n",
        "\n",
        "Using the above programs and the knowledge you have gained through this session, hack the OneNote and discover the secret documents.\n",
        "\n",
        "https://herts365-my.sharepoint.com/:o:/g/personal/kw20abg_herts_ac_uk/Ej0UskWx7kVDmq-LqCphGG0BQk_EZFoju3zHqgVJshkbSw?e=rgOye4\n",
        "\n",
        "**Hint** This password might be additionally encoded . . . maybe it is backwards . . ."
      ],
      "metadata": {
        "id": "e6rBq3HJkK7w"
      }
    },
    {
      "cell_type": "markdown",
      "source": [
        "**You've got the document, but . . .**\n",
        "\n",
        "This looks really complex . . . One of the great things about Python is we can use already created libraries to aide us. This file is encrypted using something called FERNET, other complex ciphers its what Bitcoin uses for it's secure transactions and it's the mathmatical function it's miners are trying to solve.\n",
        "\n",
        "A hash is defined as a mathematical function that takes input of arbitrary length and turns it into output with a fixed length. \n",
        "\n",
        "Let's build one.\n",
        "\n",
        "Take the number 123\n",
        "\n",
        "Now take the letters of your text, and assign numbers to them (just like a computer naturally does with Unicode), lets go with the simple A=1, B=2, ... scheme, with 27 for space. This translates \"Hello\" to 8 5 12 12 15. \n",
        "\n",
        "Now multiply the numer you currently have (123) with the first letter's number. If the result is longer than 3 digits, only remember the last three. Repeat for the other letters:\n",
        "\n",
        "123 * 8 = 984\n",
        "\n",
        "984 * 5 = 4920\n",
        "\n",
        "920 * 12 = 11040\n",
        "\n",
        "040 * 12 = 480\n",
        "\n",
        "480 * 15 = 7200\n",
        "\n",
        "Congratulations, you turned \"Hello\" into 200. \n",
        "\n",
        "This is a horrible scheme (for starters, it reacts really really badly to the letter J because J equals 10, the above scheme results in any word starting with J always equaling 000), but it should explain the principle.\n",
        "\n",
        "A real hash function that is often used is DJBX33A: Start with 5381, take the current number, multiply it by 33, and add the number of the letter. \n",
        "\n",
        "However, that is not a cryptographic hash like SHA2. For that, the art is to make sure certain additional properties are met, e.g. an attacker cannot find two sentences that result in the same number. \n",
        "\n",
        "This is the art of modern cryptography. The maths are horrible, but thanks to Python, we can use these forms of encryption without ever having to tackle this level of maths! Programs like 7Zip allow you to encrypt your files using SHA-256 without code.\n",
        "\n",
        "**For the Brave amongst you**\n",
        "\n",
        "The best way to appreciate the complexity of modern encryption is to compare our encryptions to a real one. Both our encryption methods were pretty weak, they didn't take much to crack because the mathmatical functions we applied to them were simple. You could add much more complex mathmatics to what we have here by adding more operations.\n",
        "\n",
        "SHA256 works by splitting the input into 512bit sized blocks (if the input is not a multiple of it, the input will be padded i.e. extra stuff added to make it the correct length), resulting in **n** 512bit blocks with 64bytes each, called **M1** to **Mn**. \n",
        "\n",
        "Then a value **X0** is initialized to a default 256bit value defined by the standard, which are the first 32 bits of the decimal place of the square root of the first 8 prime numbers.\n",
        "\n",
        "Then, the algorithm will process each block in sequence, calculating **Xi** as **Xi = f(Mi, Xi-1)**, and after the last round the final hash value is in **Xn**.\n",
        "\n",
        "The true magic of SHA256 happens in the function **f**, which takes a 512bit block and a 256bit block (**Mi** and **Xi-1** respectively), and compresses them down to a 256bit block. Each round works the following:\n",
        "\n",
        "Expand the 512bit block to a 64word array **W**\n",
        "\n",
        "Copy the 16 words of the input into **W0** to **W16**\n",
        "\n",
        "For the remaining 48words, apply the following method: **W[t] = MIX(W[t - 2], W[t - 7], W[t - 15], W[t - 16])**. The operation goes over the remaining 48 words and applies a series of binary operations on them. Then, go over all 64words and compress them down to 256bit, using more binary operations.\n",
        "\n",
        "Yeah . . . ;D\n",
        "\n",
        "Well, here's a much easier way to encrypt the document . . . if you have the key . . .\n",
        "\n",
        "\n"
      ],
      "metadata": {
        "id": "dX_gag58sCXG"
      }
    },
    {
      "cell_type": "code",
      "source": [
        "#We are going to import someone elses library here to help us decrypt our message. We need to run the below command to download the library and install it on this virtual machine\n",
        "#In Google Colab, we use the ! to show that this bit of code is not in python but is a command line prompt.\n",
        "\n",
        "!python -m pip install cryptography\n"
      ],
      "metadata": {
        "id": "vlLRClgox4rX"
      },
      "execution_count": null,
      "outputs": []
    },
    {
      "cell_type": "code",
      "source": [
        "#Import the library that does all the magic\n",
        "from cryptography.fernet import Fernet\n",
        "\n",
        "#There are two main ways to get a key, we can either generate a new one or use one that has previously been generated. These keys need to be in a particular format so make sure to get this right.\n",
        "#To generate a new random key, we can simply use\n",
        "key = Fernet.generate_key()\n",
        "print (key)\n",
        "\n"
      ],
      "metadata": {
        "id": "WQFIykUxy6yB"
      },
      "execution_count": null,
      "outputs": []
    },
    {
      "cell_type": "code",
      "source": [
        "#To encrypt a message, you will need a key (as previously discussed) and your message as type bytes (you can convert strings to bytes using .encode()).\n",
        "\n",
        "from cryptography.fernet import Fernet\n",
        "message = \"My Secret Message\".encode()\n",
        "\n",
        "f = Fernet(key)\n",
        "encrypted = f.encrypt(message)  # Encrypt the bytes. The returning object is of type bytes\n",
        "\n",
        "print (encrypted)"
      ],
      "metadata": {
        "id": "p3B4xKxu5G2d"
      },
      "execution_count": null,
      "outputs": []
    },
    {
      "cell_type": "code",
      "source": [
        "from cryptography.fernet import Fernet\n",
        "encrypted = b\"...encrypted bytes...\"\n",
        "\n",
        "f = Fernet(key)\n",
        "decrypted = f.decrypt(encrypted)  # Decrypt the bytes. The returning object is of type bytes\n",
        "\n",
        "print (decrypted)"
      ],
      "metadata": {
        "id": "VFQQ9bG05zKv"
      },
      "execution_count": null,
      "outputs": []
    },
    {
      "cell_type": "markdown",
      "source": [
        "# Lets decrypt the final message in the document!\n",
        "\n",
        "So you have a key (note that keeping your key in the same place as your data is a really bad idea!)\n",
        "\n",
        "Replace the below code with values from the document to win the final puzzle!\n"
      ],
      "metadata": {
        "id": "7iPoiB2m6ypZ"
      }
    },
    {
      "cell_type": "code",
      "source": [
        "from cryptography.fernet import Fernet\n",
        "\n",
        "#replace b\"...encrypted bytes...\" with your message\n",
        "encrypted = b\"...encrypted bytes...\"\n",
        "\n",
        "#replace key with the private key i.e: b'gcDpjPpXee3B2JtpbnF0CGTaowGgbFMS46eU2tKXm_M='\n",
        "f = Fernet(key)\n",
        "decrypted = f.decrypt(encrypted)  # Decrypt the bytes. The returning object is of type bytes\n",
        "\n",
        "print (decrypted)"
      ],
      "metadata": {
        "id": "LT1Kp9xz7MQr"
      },
      "execution_count": null,
      "outputs": []
    }
  ]
}